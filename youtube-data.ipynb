{
 "cells": [
  {
   "cell_type": "code",
   "execution_count": 1,
   "id": "deaf9424",
   "metadata": {
    "_cell_guid": "b1076dfc-b9ad-4769-8c92-a6c4dae69d19",
    "_uuid": "8f2839f25d086af736a60e9eeb907d3b93b6e0e5",
    "execution": {
     "iopub.execute_input": "2024-05-22T02:46:11.273529Z",
     "iopub.status.busy": "2024-05-22T02:46:11.273240Z",
     "iopub.status.idle": "2024-05-22T02:46:11.983493Z",
     "shell.execute_reply": "2024-05-22T02:46:11.982440Z"
    },
    "jupyter": {
     "source_hidden": true
    },
    "papermill": {
     "duration": 0.716318,
     "end_time": "2024-05-22T02:46:11.985665",
     "exception": false,
     "start_time": "2024-05-22T02:46:11.269347",
     "status": "completed"
    },
    "tags": []
   },
   "outputs": [
    {
     "name": "stdout",
     "output_type": "stream",
     "text": [
      "/kaggle/input/duration-5min-1sthalf/duration_5min_1stHalf.xlsx\n"
     ]
    }
   ],
   "source": [
    "# This Python 3 environment comes with many helpful analytics libraries installed\n",
    "# It is defined by the kaggle/python Docker image: https://github.com/kaggle/docker-python\n",
    "# For example, here's several helpful packages to load\n",
    "\n",
    "import numpy as np # linear algebra\n",
    "import pandas as pd # data processing, CSV file I/O (e.g. pd.read_csv)\n",
    "\n",
    "# Input data files are available in the read-only \"../input/\" directory\n",
    "# For example, running this (by clicking run or pressing Shift+Enter) will list all files under the input directory\n",
    "\n",
    "import os\n",
    "for dirname, _, filenames in os.walk('/kaggle/input'):\n",
    "    for filename in filenames:\n",
    "        print(os.path.join(dirname, filename))\n",
    "\n",
    "# You can write up to 20GB to the current directory (/kaggle/working/) that gets preserved as output when you create a version using \"Save & Run All\" \n",
    "# You can also write temporary files to /kaggle/temp/, but they won't be saved outside of the current session"
   ]
  },
  {
   "cell_type": "code",
   "execution_count": 2,
   "id": "e8bf55a6",
   "metadata": {
    "execution": {
     "iopub.execute_input": "2024-05-22T02:46:11.992262Z",
     "iopub.status.busy": "2024-05-22T02:46:11.991883Z",
     "iopub.status.idle": "2024-05-22T02:46:46.457545Z",
     "shell.execute_reply": "2024-05-22T02:46:46.456038Z"
    },
    "papermill": {
     "duration": 34.470991,
     "end_time": "2024-05-22T02:46:46.459555",
     "exception": false,
     "start_time": "2024-05-22T02:46:11.988564",
     "status": "completed"
    },
    "tags": []
   },
   "outputs": [
    {
     "name": "stdout",
     "output_type": "stream",
     "text": [
      "Collecting git+https://github.com/openai/whisper.git\r\n",
      "  Cloning https://github.com/openai/whisper.git to /tmp/pip-req-build-tabn5ghu\r\n",
      "  Running command git clone --filter=blob:none --quiet https://github.com/openai/whisper.git /tmp/pip-req-build-tabn5ghu\r\n",
      "  Resolved https://github.com/openai/whisper.git to commit ba3f3cd54b0e5b8ce1ab3de13e32122d0d5f98ab\r\n",
      "  Installing build dependencies ... \u001b[?25l-\b \b\\\b \b|\b \b/\b \b-\b \b\\\b \b|\b \bdone\r\n",
      "\u001b[?25h  Getting requirements to build wheel ... \u001b[?25l-\b \bdone\r\n",
      "\u001b[?25h  Preparing metadata (pyproject.toml) ... \u001b[?25l-\b \bdone\r\n",
      "\u001b[?25hRequirement already satisfied: numba in /opt/conda/lib/python3.10/site-packages (from openai-whisper==20231117) (0.58.1)\r\n",
      "Requirement already satisfied: numpy in /opt/conda/lib/python3.10/site-packages (from openai-whisper==20231117) (1.26.4)\r\n",
      "Requirement already satisfied: torch in /opt/conda/lib/python3.10/site-packages (from openai-whisper==20231117) (2.1.2)\r\n",
      "Requirement already satisfied: tqdm in /opt/conda/lib/python3.10/site-packages (from openai-whisper==20231117) (4.66.1)\r\n",
      "Requirement already satisfied: more-itertools in /opt/conda/lib/python3.10/site-packages (from openai-whisper==20231117) (10.2.0)\r\n",
      "Collecting tiktoken (from openai-whisper==20231117)\r\n",
      "  Downloading tiktoken-0.7.0-cp310-cp310-manylinux_2_17_x86_64.manylinux2014_x86_64.whl.metadata (6.6 kB)\r\n",
      "Collecting triton<3,>=2.0.0 (from openai-whisper==20231117)\r\n",
      "  Downloading triton-2.3.0-cp310-cp310-manylinux_2_17_x86_64.manylinux2014_x86_64.whl.metadata (1.4 kB)\r\n",
      "Requirement already satisfied: filelock in /opt/conda/lib/python3.10/site-packages (from triton<3,>=2.0.0->openai-whisper==20231117) (3.13.1)\r\n",
      "Requirement already satisfied: llvmlite<0.42,>=0.41.0dev0 in /opt/conda/lib/python3.10/site-packages (from numba->openai-whisper==20231117) (0.41.1)\r\n",
      "Requirement already satisfied: regex>=2022.1.18 in /opt/conda/lib/python3.10/site-packages (from tiktoken->openai-whisper==20231117) (2023.12.25)\r\n",
      "Requirement already satisfied: requests>=2.26.0 in /opt/conda/lib/python3.10/site-packages (from tiktoken->openai-whisper==20231117) (2.31.0)\r\n",
      "Requirement already satisfied: typing-extensions in /opt/conda/lib/python3.10/site-packages (from torch->openai-whisper==20231117) (4.9.0)\r\n",
      "Requirement already satisfied: sympy in /opt/conda/lib/python3.10/site-packages (from torch->openai-whisper==20231117) (1.12)\r\n",
      "Requirement already satisfied: networkx in /opt/conda/lib/python3.10/site-packages (from torch->openai-whisper==20231117) (3.2.1)\r\n",
      "Requirement already satisfied: jinja2 in /opt/conda/lib/python3.10/site-packages (from torch->openai-whisper==20231117) (3.1.2)\r\n",
      "Requirement already satisfied: fsspec in /opt/conda/lib/python3.10/site-packages (from torch->openai-whisper==20231117) (2024.2.0)\r\n",
      "Requirement already satisfied: charset-normalizer<4,>=2 in /opt/conda/lib/python3.10/site-packages (from requests>=2.26.0->tiktoken->openai-whisper==20231117) (3.3.2)\r\n",
      "Requirement already satisfied: idna<4,>=2.5 in /opt/conda/lib/python3.10/site-packages (from requests>=2.26.0->tiktoken->openai-whisper==20231117) (3.6)\r\n",
      "Requirement already satisfied: urllib3<3,>=1.21.1 in /opt/conda/lib/python3.10/site-packages (from requests>=2.26.0->tiktoken->openai-whisper==20231117) (1.26.18)\r\n",
      "Requirement already satisfied: certifi>=2017.4.17 in /opt/conda/lib/python3.10/site-packages (from requests>=2.26.0->tiktoken->openai-whisper==20231117) (2024.2.2)\r\n",
      "Requirement already satisfied: MarkupSafe>=2.0 in /opt/conda/lib/python3.10/site-packages (from jinja2->torch->openai-whisper==20231117) (2.1.3)\r\n",
      "Requirement already satisfied: mpmath>=0.19 in /opt/conda/lib/python3.10/site-packages (from sympy->torch->openai-whisper==20231117) (1.3.0)\r\n",
      "Downloading triton-2.3.0-cp310-cp310-manylinux_2_17_x86_64.manylinux2014_x86_64.whl (168.1 MB)\r\n",
      "\u001b[2K   \u001b[90m━━━━━━━━━━━━━━━━━━━━━━━━━━━━━━━━━━━━━━━━\u001b[0m \u001b[32m168.1/168.1 MB\u001b[0m \u001b[31m9.3 MB/s\u001b[0m eta \u001b[36m0:00:00\u001b[0m\r\n",
      "\u001b[?25hDownloading tiktoken-0.7.0-cp310-cp310-manylinux_2_17_x86_64.manylinux2014_x86_64.whl (1.1 MB)\r\n",
      "\u001b[2K   \u001b[90m━━━━━━━━━━━━━━━━━━━━━━━━━━━━━━━━━━━━━━━━\u001b[0m \u001b[32m1.1/1.1 MB\u001b[0m \u001b[31m54.2 MB/s\u001b[0m eta \u001b[36m0:00:00\u001b[0m\r\n",
      "\u001b[?25hBuilding wheels for collected packages: openai-whisper\r\n",
      "  Building wheel for openai-whisper (pyproject.toml) ... \u001b[?25l-\b \b\\\b \bdone\r\n",
      "\u001b[?25h  Created wheel for openai-whisper: filename=openai_whisper-20231117-py3-none-any.whl size=802826 sha256=94372dbac7bece1c1aad5d3b3c1988e88a16e93444663d9055b7d2a2e3a03689\r\n",
      "  Stored in directory: /tmp/pip-ephem-wheel-cache-yqytgpv4/wheels/8b/6c/d0/622666868c179f156cf595c8b6f06f88bc5d80c4b31dccaa03\r\n",
      "Successfully built openai-whisper\r\n",
      "Installing collected packages: triton, tiktoken, openai-whisper\r\n",
      "Successfully installed openai-whisper-20231117 tiktoken-0.7.0 triton-2.3.0\r\n",
      "Note: you may need to restart the kernel to use updated packages.\n"
     ]
    }
   ],
   "source": [
    "pip install git+https://github.com/openai/whisper.git"
   ]
  },
  {
   "cell_type": "code",
   "execution_count": 3,
   "id": "08bbb8db",
   "metadata": {
    "execution": {
     "iopub.execute_input": "2024-05-22T02:46:46.479235Z",
     "iopub.status.busy": "2024-05-22T02:46:46.478929Z",
     "iopub.status.idle": "2024-05-22T02:47:02.689781Z",
     "shell.execute_reply": "2024-05-22T02:47:02.688860Z"
    },
    "papermill": {
     "duration": 16.223258,
     "end_time": "2024-05-22T02:47:02.692071",
     "exception": false,
     "start_time": "2024-05-22T02:46:46.468813",
     "status": "completed"
    },
    "tags": []
   },
   "outputs": [
    {
     "name": "stdout",
     "output_type": "stream",
     "text": [
      "Collecting yt-dlp\r\n",
      "  Downloading yt_dlp-2024.4.9-py3-none-any.whl.metadata (165 kB)\r\n",
      "\u001b[2K     \u001b[90m━━━━━━━━━━━━━━━━━━━━━━━━━━━━━━━━━━━━━━━\u001b[0m \u001b[32m166.0/166.0 kB\u001b[0m \u001b[31m1.3 MB/s\u001b[0m eta \u001b[36m0:00:00\u001b[0m\r\n",
      "\u001b[?25hRequirement already satisfied: brotli in /opt/conda/lib/python3.10/site-packages (from yt-dlp) (1.0.9)\r\n",
      "Requirement already satisfied: certifi in /opt/conda/lib/python3.10/site-packages (from yt-dlp) (2024.2.2)\r\n",
      "Collecting mutagen (from yt-dlp)\r\n",
      "  Downloading mutagen-1.47.0-py3-none-any.whl.metadata (1.7 kB)\r\n",
      "Collecting pycryptodomex (from yt-dlp)\r\n",
      "  Downloading pycryptodomex-3.20.0-cp35-abi3-manylinux_2_17_x86_64.manylinux2014_x86_64.whl.metadata (3.4 kB)\r\n",
      "Requirement already satisfied: requests<3,>=2.31.0 in /opt/conda/lib/python3.10/site-packages (from yt-dlp) (2.31.0)\r\n",
      "Requirement already satisfied: urllib3<3,>=1.26.17 in /opt/conda/lib/python3.10/site-packages (from yt-dlp) (1.26.18)\r\n",
      "Requirement already satisfied: websockets>=12.0 in /opt/conda/lib/python3.10/site-packages (from yt-dlp) (12.0)\r\n",
      "Requirement already satisfied: charset-normalizer<4,>=2 in /opt/conda/lib/python3.10/site-packages (from requests<3,>=2.31.0->yt-dlp) (3.3.2)\r\n",
      "Requirement already satisfied: idna<4,>=2.5 in /opt/conda/lib/python3.10/site-packages (from requests<3,>=2.31.0->yt-dlp) (3.6)\r\n",
      "Downloading yt_dlp-2024.4.9-py3-none-any.whl (3.1 MB)\r\n",
      "\u001b[2K   \u001b[90m━━━━━━━━━━━━━━━━━━━━━━━━━━━━━━━━━━━━━━━━\u001b[0m \u001b[32m3.1/3.1 MB\u001b[0m \u001b[31m18.2 MB/s\u001b[0m eta \u001b[36m0:00:00\u001b[0m\r\n",
      "\u001b[?25hDownloading mutagen-1.47.0-py3-none-any.whl (194 kB)\r\n",
      "\u001b[2K   \u001b[90m━━━━━━━━━━━━━━━━━━━━━━━━━━━━━━━━━━━━━━━━\u001b[0m \u001b[32m194.4/194.4 kB\u001b[0m \u001b[31m16.8 MB/s\u001b[0m eta \u001b[36m0:00:00\u001b[0m\r\n",
      "\u001b[?25hDownloading pycryptodomex-3.20.0-cp35-abi3-manylinux_2_17_x86_64.manylinux2014_x86_64.whl (2.1 MB)\r\n",
      "\u001b[2K   \u001b[90m━━━━━━━━━━━━━━━━━━━━━━━━━━━━━━━━━━━━━━━━\u001b[0m \u001b[32m2.1/2.1 MB\u001b[0m \u001b[31m74.5 MB/s\u001b[0m eta \u001b[36m0:00:00\u001b[0m\r\n",
      "\u001b[?25hInstalling collected packages: pycryptodomex, mutagen, yt-dlp\r\n",
      "Successfully installed mutagen-1.47.0 pycryptodomex-3.20.0 yt-dlp-2024.4.9\r\n"
     ]
    }
   ],
   "source": [
    "!pip install yt-dlp"
   ]
  },
  {
   "cell_type": "code",
   "execution_count": 4,
   "id": "0049ccb6",
   "metadata": {
    "execution": {
     "iopub.execute_input": "2024-05-22T02:47:02.716022Z",
     "iopub.status.busy": "2024-05-22T02:47:02.715195Z",
     "iopub.status.idle": "2024-05-22T04:23:06.862242Z",
     "shell.execute_reply": "2024-05-22T04:23:06.861180Z"
    },
    "papermill": {
     "duration": 5764.161613,
     "end_time": "2024-05-22T04:23:06.864703",
     "exception": false,
     "start_time": "2024-05-22T02:47:02.703090",
     "status": "completed"
    },
    "tags": []
   },
   "outputs": [
    {
     "name": "stderr",
     "output_type": "stream",
     "text": [
      "Processing videos:   0%|          | 0/715 [00:00<?, ?it/s]\n",
      "  0%|                                              | 0.00/72.1M [00:00<?, ?iB/s]\u001b[A\n",
      "  7%|██▍                                  | 4.74M/72.1M [00:00<00:01, 49.7MiB/s]\u001b[A\n",
      " 24%|████████▊                            | 17.1M/72.1M [00:00<00:00, 96.6MiB/s]\u001b[A\n",
      " 40%|███████████████▏                      | 28.7M/72.1M [00:00<00:00, 108MiB/s]\u001b[A/opt/conda/lib/python3.10/site-packages/whisper/__init__.py:65: UserWarning: /root/.cache/whisper/tiny.pt exists, but the SHA256 checksum does not match; re-downloading the file\n",
      "  warnings.warn(\n",
      "\n",
      " 54%|████████████████████▌                 | 39.0M/72.1M [00:00<00:00, 107MiB/s]\u001b[A\n",
      "\n",
      "  0%|                                              | 0.00/72.1M [00:00<?, ?iB/s]\u001b[A\u001b[A\n",
      " 69%|██████████████████████████▏           | 49.6M/72.1M [00:00<00:00, 108MiB/s]\u001b[A\n",
      "\n",
      "  9%|███▍                                 | 6.62M/72.1M [00:00<00:00, 69.5MiB/s]\u001b[A\u001b[A\n",
      "100%|██████████████████████████████████████| 72.1M/72.1M [00:00<00:00, 111MiB/s]\n",
      "\n",
      "\n",
      " 22%|████████▎                            | 16.1M/72.1M [00:00<00:00, 86.9MiB/s]\u001b[A\u001b[A"
     ]
    },
    {
     "name": "stdout",
     "output_type": "stream",
     "text": [
      "Failed to transcribe audio: Model has been downloaded but the SHA256 checksum does not not match. Please retry loading the model.\n"
     ]
    },
    {
     "name": "stderr",
     "output_type": "stream",
     "text": [
      "\n",
      "Processing videos:   0%|          | 1/715 [00:07<1:27:51,  7.38s/it]\n",
      "\n",
      " 34%|████████████▋                        | 24.8M/72.1M [00:00<00:00, 88.7MiB/s]\u001b[A\u001b[A\n",
      "  8%|███                                  | 5.89M/72.1M [00:00<00:01, 61.7MiB/s]\u001b[A\n",
      "\n",
      " 46%|█████████████████▏                   | 33.4M/72.1M [00:00<00:00, 89.6MiB/s]\u001b[A\u001b[A\n",
      " 30%|███████████▎                          | 21.4M/72.1M [00:00<00:00, 121MiB/s]\u001b[A\n",
      "\n",
      " 58%|█████████████████████▌               | 42.0M/72.1M [00:00<00:00, 82.9MiB/s]\u001b[A\u001b[A\n",
      " 56%|█████████████████████▏                | 40.1M/72.1M [00:00<00:00, 155MiB/s]\u001b[A\n",
      "\n",
      " 74%|███████████████████████████▎         | 53.3M/72.1M [00:00<00:00, 94.3MiB/s]\u001b[A\u001b[A\n",
      " 76%|████████████████████████████▉         | 54.9M/72.1M [00:00<00:00, 145MiB/s]\u001b[A\n",
      "\n",
      " 89%|████████████████████████████████▊    | 63.8M/72.1M [00:00<00:00, 99.4MiB/s]\u001b[A\u001b[A\n",
      "100%|██████████████████████████████████████| 72.1M/72.1M [00:00<00:00, 142MiB/s]\n",
      "100%|█████████████████████████████████████| 72.1M/72.1M [00:00<00:00, 91.6MiB/s]\n",
      "Processing videos:   8%|▊         | 56/715 [07:52<1:15:00,  6.83s/it]"
     ]
    },
    {
     "name": "stdout",
     "output_type": "stream",
     "text": [
      "Attempt 1 failed for video ID nan: ERROR: [youtube:truncated_id] nan: Incomplete YouTube ID nan. URL https://www.youtube.com/watch?v=nan looks truncated.\n",
      "Attempt 2 failed for video ID nan: ERROR: [youtube:truncated_id] nan: Incomplete YouTube ID nan. URL https://www.youtube.com/watch?v=nan looks truncated.\n"
     ]
    },
    {
     "name": "stderr",
     "output_type": "stream",
     "text": [
      "Processing videos:   8%|▊         | 57/715 [07:54<1:00:56,  5.56s/it]"
     ]
    },
    {
     "name": "stdout",
     "output_type": "stream",
     "text": [
      "Attempt 3 failed for video ID nan: ERROR: [youtube:truncated_id] nan: Incomplete YouTube ID nan. URL https://www.youtube.com/watch?v=nan looks truncated.\n",
      "Failed to download or convert audio for video ID nan after 3 attempts.\n",
      "Error message: ERROR: [youtube:truncated_id] nan: Incomplete YouTube ID nan. URL https://www.youtube.com/watch?v=nan looks truncated.\n"
     ]
    },
    {
     "name": "stderr",
     "output_type": "stream",
     "text": [
      "Processing videos:  18%|█▊        | 132/715 [17:56<1:36:50,  9.97s/it]"
     ]
    },
    {
     "name": "stdout",
     "output_type": "stream",
     "text": [
      "Attempt 1 failed for video ID nan: ERROR: [youtube:truncated_id] nan: Incomplete YouTube ID nan. URL https://www.youtube.com/watch?v=nan looks truncated.\n",
      "Attempt 2 failed for video ID nan: ERROR: [youtube:truncated_id] nan: Incomplete YouTube ID nan. URL https://www.youtube.com/watch?v=nan looks truncated.\n"
     ]
    },
    {
     "name": "stderr",
     "output_type": "stream",
     "text": [
      "Processing videos:  19%|█▊        | 133/715 [17:59<1:14:53,  7.72s/it]"
     ]
    },
    {
     "name": "stdout",
     "output_type": "stream",
     "text": [
      "Attempt 3 failed for video ID nan: ERROR: [youtube:truncated_id] nan: Incomplete YouTube ID nan. URL https://www.youtube.com/watch?v=nan looks truncated.\n",
      "Failed to download or convert audio for video ID nan after 3 attempts.\n",
      "Error message: ERROR: [youtube:truncated_id] nan: Incomplete YouTube ID nan. URL https://www.youtube.com/watch?v=nan looks truncated.\n"
     ]
    },
    {
     "name": "stderr",
     "output_type": "stream",
     "text": [
      "Processing videos:  20%|██        | 146/715 [19:38<1:22:14,  8.67s/it]"
     ]
    },
    {
     "name": "stdout",
     "output_type": "stream",
     "text": [
      "Attempt 1 failed for video ID nan: ERROR: [youtube:truncated_id] nan: Incomplete YouTube ID nan. URL https://www.youtube.com/watch?v=nan looks truncated.\n"
     ]
    },
    {
     "name": "stderr",
     "output_type": "stream",
     "text": [
      "Processing videos:  21%|██        | 147/715 [19:39<1:02:38,  6.62s/it]"
     ]
    },
    {
     "name": "stdout",
     "output_type": "stream",
     "text": [
      "Attempt 2 failed for video ID nan: ERROR: [youtube:truncated_id] nan: Incomplete YouTube ID nan. URL https://www.youtube.com/watch?v=nan looks truncated.\n"
     ]
    },
    {
     "name": "stderr",
     "output_type": "stream",
     "text": [
      "Processing videos:  21%|██        | 148/715 [19:40<45:47,  4.85s/it]  "
     ]
    },
    {
     "name": "stdout",
     "output_type": "stream",
     "text": [
      "Attempt 3 failed for video ID nan: ERROR: [youtube:truncated_id] nan: Incomplete YouTube ID nan. URL https://www.youtube.com/watch?v=nan looks truncated.\n",
      "Failed to download or convert audio for video ID nan after 3 attempts.\n",
      "Error message: ERROR: [youtube:truncated_id] nan: Incomplete YouTube ID nan. URL https://www.youtube.com/watch?v=nan looks truncated.\n"
     ]
    },
    {
     "name": "stderr",
     "output_type": "stream",
     "text": [
      "Processing videos:  43%|████▎     | 305/715 [42:12<46:25,  6.79s/it]"
     ]
    },
    {
     "name": "stdout",
     "output_type": "stream",
     "text": [
      "Attempt 1 failed for video ID nan: ERROR: [youtube:truncated_id] nan: Incomplete YouTube ID nan. URL https://www.youtube.com/watch?v=nan looks truncated.\n",
      "Attempt 2 failed for video ID nan: ERROR: [youtube:truncated_id] nan: Incomplete YouTube ID nan. URL https://www.youtube.com/watch?v=nan looks truncated.\n"
     ]
    },
    {
     "name": "stderr",
     "output_type": "stream",
     "text": [
      "Processing videos:  43%|████▎     | 306/715 [42:15<37:25,  5.49s/it]"
     ]
    },
    {
     "name": "stdout",
     "output_type": "stream",
     "text": [
      "Attempt 3 failed for video ID nan: ERROR: [youtube:truncated_id] nan: Incomplete YouTube ID nan. URL https://www.youtube.com/watch?v=nan looks truncated.\n",
      "Failed to download or convert audio for video ID nan after 3 attempts.\n",
      "Error message: ERROR: [youtube:truncated_id] nan: Incomplete YouTube ID nan. URL https://www.youtube.com/watch?v=nan looks truncated.\n"
     ]
    },
    {
     "name": "stderr",
     "output_type": "stream",
     "text": [
      "Processing videos:  62%|██████▏   | 445/715 [1:00:10<40:03,  8.90s/it]"
     ]
    },
    {
     "name": "stdout",
     "output_type": "stream",
     "text": [
      "Attempt 1 failed for video ID nan: ERROR: [youtube:truncated_id] nan: Incomplete YouTube ID nan. URL https://www.youtube.com/watch?v=nan looks truncated.\n",
      "Attempt 2 failed for video ID nan: ERROR: [youtube:truncated_id] nan: Incomplete YouTube ID nan. URL https://www.youtube.com/watch?v=nan looks truncated.\n"
     ]
    },
    {
     "name": "stderr",
     "output_type": "stream",
     "text": [
      "Processing videos:  63%|██████▎   | 447/715 [1:00:13<21:52,  4.90s/it]"
     ]
    },
    {
     "name": "stdout",
     "output_type": "stream",
     "text": [
      "Attempt 3 failed for video ID nan: ERROR: [youtube:truncated_id] nan: Incomplete YouTube ID nan. URL https://www.youtube.com/watch?v=nan looks truncated.\n",
      "Failed to download or convert audio for video ID nan after 3 attempts.\n",
      "Error message: ERROR: [youtube:truncated_id] nan: Incomplete YouTube ID nan. URL https://www.youtube.com/watch?v=nan looks truncated.\n"
     ]
    },
    {
     "name": "stderr",
     "output_type": "stream",
     "text": [
      "Processing videos:  77%|███████▋  | 553/715 [1:14:42<20:06,  7.45s/it]"
     ]
    },
    {
     "name": "stdout",
     "output_type": "stream",
     "text": [
      "Attempt 1 failed for video ID nan: ERROR: [youtube:truncated_id] nan: Incomplete YouTube ID nan. URL https://www.youtube.com/watch?v=nan looks truncated.\n",
      "Attempt 2 failed for video ID nan: ERROR: [youtube:truncated_id] nan: Incomplete YouTube ID nan. URL https://www.youtube.com/watch?v=nan looks truncated.\n"
     ]
    },
    {
     "name": "stderr",
     "output_type": "stream",
     "text": [
      "Processing videos:  77%|███████▋  | 554/715 [1:14:45<15:53,  5.92s/it]"
     ]
    },
    {
     "name": "stdout",
     "output_type": "stream",
     "text": [
      "Attempt 3 failed for video ID nan: ERROR: [youtube:truncated_id] nan: Incomplete YouTube ID nan. URL https://www.youtube.com/watch?v=nan looks truncated.\n",
      "Failed to download or convert audio for video ID nan after 3 attempts.\n",
      "Error message: ERROR: [youtube:truncated_id] nan: Incomplete YouTube ID nan. URL https://www.youtube.com/watch?v=nan looks truncated.\n"
     ]
    },
    {
     "name": "stderr",
     "output_type": "stream",
     "text": [
      "Processing videos:  83%|████████▎ | 591/715 [1:19:50<16:06,  7.79s/it]"
     ]
    },
    {
     "name": "stdout",
     "output_type": "stream",
     "text": [
      "Attempt 1 failed for video ID nan: ERROR: [youtube:truncated_id] nan: Incomplete YouTube ID nan. URL https://www.youtube.com/watch?v=nan looks truncated.\n",
      "Attempt 2 failed for video ID nan: ERROR: [youtube:truncated_id] nan: Incomplete YouTube ID nan. URL https://www.youtube.com/watch?v=nan looks truncated.\n"
     ]
    },
    {
     "name": "stderr",
     "output_type": "stream",
     "text": [
      "Processing videos:  83%|████████▎ | 592/715 [1:19:52<12:39,  6.18s/it]"
     ]
    },
    {
     "name": "stdout",
     "output_type": "stream",
     "text": [
      "Attempt 3 failed for video ID nan: ERROR: [youtube:truncated_id] nan: Incomplete YouTube ID nan. URL https://www.youtube.com/watch?v=nan looks truncated.\n",
      "Failed to download or convert audio for video ID nan after 3 attempts.\n",
      "Error message: ERROR: [youtube:truncated_id] nan: Incomplete YouTube ID nan. URL https://www.youtube.com/watch?v=nan looks truncated.\n"
     ]
    },
    {
     "name": "stderr",
     "output_type": "stream",
     "text": [
      "Processing videos:  84%|████████▍ | 603/715 [1:21:23<18:21,  9.83s/it]"
     ]
    },
    {
     "name": "stdout",
     "output_type": "stream",
     "text": [
      "Attempt 1 failed for video ID nan: ERROR: [youtube:truncated_id] nan: Incomplete YouTube ID nan. URL https://www.youtube.com/watch?v=nan looks truncated.\n",
      "Attempt 2 failed for video ID nan: ERROR: [youtube:truncated_id] nan: Incomplete YouTube ID nan. URL https://www.youtube.com/watch?v=nan looks truncated.\n"
     ]
    },
    {
     "name": "stderr",
     "output_type": "stream",
     "text": [
      "Processing videos:  84%|████████▍ | 604/715 [1:21:25<14:06,  7.62s/it]"
     ]
    },
    {
     "name": "stdout",
     "output_type": "stream",
     "text": [
      "Attempt 3 failed for video ID nan: ERROR: [youtube:truncated_id] nan: Incomplete YouTube ID nan. URL https://www.youtube.com/watch?v=nan looks truncated.\n",
      "Failed to download or convert audio for video ID nan after 3 attempts.\n",
      "Error message: ERROR: [youtube:truncated_id] nan: Incomplete YouTube ID nan. URL https://www.youtube.com/watch?v=nan looks truncated.\n"
     ]
    },
    {
     "name": "stderr",
     "output_type": "stream",
     "text": [
      "Processing videos:  91%|█████████ | 649/715 [1:27:23<07:30,  6.82s/it]"
     ]
    },
    {
     "name": "stdout",
     "output_type": "stream",
     "text": [
      "Attempt 1 failed for video ID nan: ERROR: [youtube:truncated_id] nan: Incomplete YouTube ID nan. URL https://www.youtube.com/watch?v=nan looks truncated.\n",
      "Attempt 2 failed for video ID nan: ERROR: [youtube:truncated_id] nan: Incomplete YouTube ID nan. URL https://www.youtube.com/watch?v=nan looks truncated.\n"
     ]
    },
    {
     "name": "stderr",
     "output_type": "stream",
     "text": [
      "Processing videos:  91%|█████████ | 650/715 [1:27:25<06:01,  5.56s/it]"
     ]
    },
    {
     "name": "stdout",
     "output_type": "stream",
     "text": [
      "Attempt 3 failed for video ID nan: ERROR: [youtube:truncated_id] nan: Incomplete YouTube ID nan. URL https://www.youtube.com/watch?v=nan looks truncated.\n",
      "Failed to download or convert audio for video ID nan after 3 attempts.\n",
      "Error message: ERROR: [youtube:truncated_id] nan: Incomplete YouTube ID nan. URL https://www.youtube.com/watch?v=nan looks truncated.\n"
     ]
    },
    {
     "name": "stderr",
     "output_type": "stream",
     "text": [
      "Processing videos:  98%|█████████▊| 698/715 [1:33:45<02:52, 10.13s/it]"
     ]
    },
    {
     "name": "stdout",
     "output_type": "stream",
     "text": [
      "Attempt 1 failed for video ID nan: ERROR: [youtube:truncated_id] nan: Incomplete YouTube ID nan. URL https://www.youtube.com/watch?v=nan looks truncated.\n",
      "Attempt 2 failed for video ID nan: ERROR: [youtube:truncated_id] nan: Incomplete YouTube ID nan. URL https://www.youtube.com/watch?v=nan looks truncated.\n"
     ]
    },
    {
     "name": "stderr",
     "output_type": "stream",
     "text": [
      "Processing videos:  98%|█████████▊| 699/715 [1:33:48<02:07,  7.99s/it]"
     ]
    },
    {
     "name": "stdout",
     "output_type": "stream",
     "text": [
      "Attempt 3 failed for video ID nan: ERROR: [youtube:truncated_id] nan: Incomplete YouTube ID nan. URL https://www.youtube.com/watch?v=nan looks truncated.\n",
      "Failed to download or convert audio for video ID nan after 3 attempts.\n",
      "Error message: ERROR: [youtube:truncated_id] nan: Incomplete YouTube ID nan. URL https://www.youtube.com/watch?v=nan looks truncated.\n"
     ]
    },
    {
     "name": "stderr",
     "output_type": "stream",
     "text": [
      "Processing videos: 100%|██████████| 715/715 [1:35:55<00:00,  8.05s/it]\n"
     ]
    }
   ],
   "source": [
    "import warnings\n",
    "warnings.filterwarnings(\"ignore\", message=\"FP16 is not supported on CPU; using FP32 instead\")\n",
    "\n",
    "import os\n",
    "import tempfile\n",
    "import subprocess\n",
    "import pandas as pd\n",
    "from concurrent.futures import ThreadPoolExecutor, as_completed\n",
    "import whisper\n",
    "from tqdm import tqdm\n",
    "\n",
    "def download_audio(video_id, retries=3):\n",
    "    \"\"\"Download the audio from a YouTube video using yt-dlp and convert it to WAV format.\"\"\"\n",
    "    output_path_wav = f\"{tempfile.mktemp(suffix='.wav')}\"\n",
    "    command = [\n",
    "        'yt-dlp',\n",
    "        '-x', '--audio-format', 'wav',\n",
    "        '--audio-quality', '9',  \n",
    "        '-o', output_path_wav,\n",
    "        f'https://www.youtube.com/watch?v={video_id}'\n",
    "    ]\n",
    "    for attempt in range(retries):\n",
    "        try:\n",
    "            result = subprocess.run(command, check=True, stdout=subprocess.PIPE, stderr=subprocess.PIPE)\n",
    "            return output_path_wav\n",
    "        except subprocess.CalledProcessError as e:\n",
    "            print(f\"Attempt {attempt + 1} failed for video ID {video_id}: {e.stderr.decode().strip()}\")\n",
    "            if attempt == retries - 1:\n",
    "                print(f\"Failed to download or convert audio for video ID {video_id} after {retries} attempts.\")\n",
    "                print(f\"Error message: {e.stderr.decode().strip()}\")\n",
    "    return None\n",
    "\n",
    "def transcribe_audio(audio_path):\n",
    "    \"\"\"Transcribe audio using Whisper.\"\"\"\n",
    "    try:\n",
    "        model = whisper.load_model(\"tiny\")\n",
    "        result = model.transcribe(audio_path)\n",
    "        return result['text']\n",
    "    except Exception as e:\n",
    "        print(f\"Failed to transcribe audio: {e}\")\n",
    "        return \"Transcription failed\"\n",
    "\n",
    "def process_video(video_id, channel_id):\n",
    "    \"\"\"Process a single video given by video_id and include channel_id.\"\"\"\n",
    "    audio_path = download_audio(video_id)\n",
    "    if audio_path:\n",
    "        transcription = transcribe_audio(audio_path)\n",
    "        os.remove(audio_path)\n",
    "    else:\n",
    "        transcription = \"No transcription available\"\n",
    "    return video_id, channel_id, transcription\n",
    "\n",
    "def process_videos(video_data):\n",
    "    \"\"\"Download and transcribe videos listed by their YouTube IDs using multithreading, including channel IDs.\"\"\"\n",
    "    transcriptions = []\n",
    "    output_csv = \"/kaggle/working/test.csv\"\n",
    "    \n",
    "    with ThreadPoolExecutor(max_workers=3) as executor:\n",
    "        future_to_video = {executor.submit(process_video, row['id'], row['channelId']): row for index, row in video_data.iterrows()}\n",
    "        for i, future in tqdm(enumerate(as_completed(future_to_video), start=1), total=len(video_data), desc=\"Processing videos\"):\n",
    "            try:\n",
    "                video_id, channel_id, transcription = future.result()\n",
    "            except Exception as e:\n",
    "                print(f\"Error processing video: {e}\")\n",
    "                video_id = future_to_video[future]['id']\n",
    "                channel_id = future_to_video[future]['channelId']\n",
    "                transcription = \"Error during processing\"\n",
    "            transcriptions.append({'VideoID': video_id, 'ChannelID': channel_id, 'Transcription': transcription})\n",
    "            # Save transcriptions to CSV file after each iteration\n",
    "            pd.DataFrame(transcriptions).to_csv(output_csv, index=False)\n",
    "    \n",
    "    return pd.DataFrame(transcriptions)\n",
    "# Example usage\n",
    "df2 = pd.read_excel('/kaggle/input/duration-5min-1sthalf/duration_5min_1stHalf.xlsx')\n",
    "df2 = df2[24285:25000]\n",
    "df = process_videos(df2)\n",
    "df.to_csv(\"/kaggle/working/duration_5min_2ndstHalf24285-25000.csv\", index=False)"
   ]
  },
  {
   "cell_type": "code",
   "execution_count": 5,
   "id": "0436824f",
   "metadata": {
    "execution": {
     "iopub.execute_input": "2024-05-22T04:23:07.015637Z",
     "iopub.status.busy": "2024-05-22T04:23:07.014899Z",
     "iopub.status.idle": "2024-05-22T04:23:07.022141Z",
     "shell.execute_reply": "2024-05-22T04:23:07.021205Z"
    },
    "papermill": {
     "duration": 0.084763,
     "end_time": "2024-05-22T04:23:07.024091",
     "exception": false,
     "start_time": "2024-05-22T04:23:06.939328",
     "status": "completed"
    },
    "tags": []
   },
   "outputs": [],
   "source": [
    "# import warnings\n",
    "# warnings.filterwarnings(\"ignore\", message=\"FP16 is not supported on CPU; using FP32 instead\")\n",
    "\n",
    "# import os\n",
    "# import tempfile\n",
    "# import subprocess\n",
    "# import pandas as pd\n",
    "# from concurrent.futures import ThreadPoolExecutor, as_completed\n",
    "# import whisper\n",
    "# from tqdm import tqdm\n",
    "\n",
    "# def download_audio(video_id):\n",
    "#     \"\"\"Download the audio from a YouTube video using yt-dlp and convert it to WAV format.\"\"\"\n",
    "#     output_path_wav = f\"{tempfile.mktemp(suffix='.wav')}\"\n",
    "#     try:\n",
    "#         command = [\n",
    "#             'yt-dlp',\n",
    "#             '-x', '--audio-format', 'wav',\n",
    "#             '--audio-quality', '0',  # Best quality\n",
    "#             '-o', output_path_wav,\n",
    "#             f'https://www.youtube.com/watch?v={video_id}'\n",
    "#         ]\n",
    "#         subprocess.run(command, check=True, stdout=subprocess.PIPE, stderr=subprocess.PIPE)\n",
    "#         return output_path_wav\n",
    "#     except subprocess.CalledProcessError as e:\n",
    "#         print(f\"Failed to download or convert audio for video ID {video_id}: {e}\")\n",
    "#         return None\n",
    "\n",
    "# def transcribe_audio(audio_path):\n",
    "#     \"\"\"Transcribe audio using Whisper.\"\"\"\n",
    "#     try:\n",
    "#         model = whisper.load_model(\"tiny\")\n",
    "#         result = model.transcribe(audio_path)\n",
    "#         return result['text']\n",
    "#     except Exception as e:\n",
    "#         print(f\"Failed to transcribe audio: {e}\")\n",
    "#         return \"Transcription failed\"\n",
    "\n",
    "# def process_video(video_id, channel_id):\n",
    "#     \"\"\"Process a single video given by video_id and include channel_id.\"\"\"\n",
    "#     audio_path = download_audio(video_id)\n",
    "#     if audio_path:\n",
    "#         transcription = transcribe_audio(audio_path)\n",
    "#         os.remove(audio_path)\n",
    "#     else:\n",
    "#         transcription = \"No transcription available\"\n",
    "#     return video_id, channel_id, transcription\n",
    "\n",
    "# def process_videos(video_data):\n",
    "#     \"\"\"Download and transcribe videos listed by their YouTube IDs using multithreading, including channel IDs.\"\"\"\n",
    "#     transcriptions = []\n",
    "#     output_csv = \"/kaggle/working/test.csv\"\n",
    "    \n",
    "#     with ThreadPoolExecutor(max_workers=3) as executor:\n",
    "#         future_to_video = {executor.submit(process_video, row['id'], row['channelId']): row for index, row in video_data.iterrows()}\n",
    "#         for i, future in tqdm(enumerate(as_completed(future_to_video), start=1), total=len(video_data), desc=\"Processing videos\"):\n",
    "#             try:\n",
    "#                 video_id, channel_id, transcription = future.result()\n",
    "#             except Exception as e:\n",
    "#                 print(f\"Error processing video: {e}\")\n",
    "#                 video_id = future_to_video[future]['id']\n",
    "#                 channel_id = future_to_video[future]['channelId']\n",
    "#                 transcription = \"Error during processing\"\n",
    "#             transcriptions.append({'VideoID': video_id, 'ChannelID': channel_id, 'Transcription': transcription})\n",
    "#             # Save transcriptions to CSV file after each iteration\n",
    "#             pd.DataFrame(transcriptions).to_csv(output_csv, index=False)\n",
    "    \n",
    "#     return pd.DataFrame(transcriptions)\n",
    "\n",
    "# # Example usage\n",
    "# df2 = pd.read_excel('/kaggle/input/duration-5min-1sthalf/duration_5min_1stHalf.xlsx')\n",
    "# df_slice = df2.iloc[10000:15000]  # Selects rows 5001 to 7000\n",
    "#   # Load only the first 50 for example, assuming 'id' and 'channelId' are columns\n",
    "# df = process_videos(df_slice)\n",
    "# df.to_csv(\"/kaggle/working/duration_5min_2ndstHalf10000-15000.csv\", index=False)"
   ]
  }
 ],
 "metadata": {
  "kaggle": {
   "accelerator": "nvidiaTeslaT4",
   "dataSources": [
    {
     "datasetId": 5026451,
     "sourceId": 8438381,
     "sourceType": "datasetVersion"
    }
   ],
   "dockerImageVersionId": 30698,
   "isGpuEnabled": true,
   "isInternetEnabled": true,
   "language": "python",
   "sourceType": "notebook"
  },
  "kernelspec": {
   "display_name": "Python 3",
   "language": "python",
   "name": "python3"
  },
  "language_info": {
   "codemirror_mode": {
    "name": "ipython",
    "version": 3
   },
   "file_extension": ".py",
   "mimetype": "text/x-python",
   "name": "python",
   "nbconvert_exporter": "python",
   "pygments_lexer": "ipython3",
   "version": "3.10.13"
  },
  "papermill": {
   "default_parameters": {},
   "duration": 5820.761099,
   "end_time": "2024-05-22T04:23:09.330033",
   "environment_variables": {},
   "exception": null,
   "input_path": "__notebook__.ipynb",
   "output_path": "__notebook__.ipynb",
   "parameters": {},
   "start_time": "2024-05-22T02:46:08.568934",
   "version": "2.5.0"
  }
 },
 "nbformat": 4,
 "nbformat_minor": 5
}
